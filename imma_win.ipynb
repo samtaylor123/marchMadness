{
 "cells": [
  {
   "cell_type": "markdown",
   "metadata": {},
   "source": [
    "## import modules\n"
   ]
  },
  {
   "cell_type": "code",
   "execution_count": 8,
   "metadata": {},
   "outputs": [],
   "source": [
    "import pandas as pd\n",
    "import numpy as np\n",
    "import matplotlib.pylab as plt\n",
    "import matplotlib as mpl"
   ]
  },
  {
   "cell_type": "markdown",
   "metadata": {},
   "source": [
    "## inputs\n"
   ]
  },
  {
   "cell_type": "code",
   "execution_count": 9,
   "metadata": {},
   "outputs": [],
   "source": [
    "# i don't want to use other people's work so i'm going to leave power rating out of this model\n",
    "# as well as all of the komputer and initial seed data\n",
    "prev_seed = pd.read_csv(\"seed/538 Ratings.csv\")\n",
    "prev_seed = prev_seed.drop(['POWER RATING', 'POWER RATING RANK'], axis=1)\n",
    "games = pd.read_csv(\"seed/games.csv\")\n",
    "how_teams_shoot = pd.read_csv(\"teams/Shooting Splits.csv\")\n",
    "coach = pd.read_csv(\"teams/Coach Results.csv\")"
   ]
  },
  {
   "cell_type": "markdown",
   "metadata": {},
   "source": [
    "## the model\n"
   ]
  },
  {
   "cell_type": "code",
   "execution_count": 53,
   "metadata": {},
   "outputs": [],
   "source": [
    "# clustering\n",
    "# what do the final four have in common\n",
    "# can't cluster data that sits in an organized line like: 1 2 4 4 8 8 8 8 16 16 16 16 16 16 16 16 etc."
   ]
  },
  {
   "cell_type": "code",
   "execution_count": 54,
   "metadata": {},
   "outputs": [],
   "source": [
    "# association rules\n",
    "# let it figure out where the connections are\n",
    "# needs non numeric data"
   ]
  },
  {
   "cell_type": "code",
   "execution_count": 55,
   "metadata": {},
   "outputs": [],
   "source": [
    "# # how strong is the wisdom of crowds\n",
    "\n",
    "\n",
    "# # inputs\n",
    "# crowd_wisdom_AP = pd.read_csv(\"votes/Preseason Votes.csv\")\n",
    "# crowd_wisdom_this_year = pd.read_csv(\"votes/Public Picks.csv\")\n",
    "\n",
    "\n",
    "# # imports\n",
    "# from sklearn.preprocessing import MinMaxScaler\n",
    "# from sklearn.model_selection import train_test_split\n",
    "# from sklearn.linear_model import LinearRegression\n",
    "# from sklearn.metrics import mean_squared_error\n",
    "\n",
    "# # preprocessing\n",
    "# crowd_wisdom_AP['YEAR'] -= 1\n",
    "# merged = pd.merge(crowd_wisdom_AP, prev_seed, on=['YEAR', 'TEAM'],\n",
    "#                   suffixes=('_crowd_wis', '_prev_seed'))\n",
    "# merged = merged.drop(['TEAM NO_crowd_wis', 'TEAM NO_prev_seed',\n",
    "#                      'ROUND_crowd_wis',\n",
    "#                       'SEED_crowd_wis', 'SEED_prev_seed'], axis=1)\n",
    "\n",
    "# # normalization\n",
    "# scaler = MinMaxScaler()\n",
    "# merged[['AP VOTES', 'AP RANK']] = scaler.fit_transform(\n",
    "#     merged[['AP VOTES', 'AP RANK']])\n",
    "\n",
    "# # split into features and target\n",
    "# features = merged[['AP VOTES', 'AP RANK', 'RANK?']]\n",
    "# target = merged['ROUND_prev_seed']\n",
    "\n",
    "# # Split the data into training and testing sets\n",
    "# test_size = 0.2 if len(features) > 5 else 0.3\n",
    "# X_train, X_test, y_train, y_test = train_test_split(\n",
    "#     features, target, test_size=test_size, random_state=42)\n",
    "\n",
    "# # run the model\n",
    "# model = LinearRegression()\n",
    "# model.fit(X_train, y_train)\n",
    "# predictions = model.predict(X_test)\n",
    "\n",
    "# # grade the results\n",
    "# mse = mean_squared_error(y_test, predictions)\n",
    "# print(mse)\n",
    "\n",
    "\n",
    "# # answer is not very. wisdom of crowds works better when you take an average not when you vote with first past the post"
   ]
  },
  {
   "cell_type": "code",
   "execution_count": 50,
   "metadata": {},
   "outputs": [
    {
     "name": "stdout",
     "output_type": "stream",
     "text": [
      "Accuracy: 0.23076923076923078\n",
      "test: ['Connecticut']\n"
     ]
    }
   ],
   "source": [
    "# better decision tree\n",
    "\n",
    "from sklearn.model_selection import train_test_split\n",
    "from sklearn.tree import DecisionTreeClassifier\n",
    "from sklearn.metrics import accuracy_score\n",
    "import random\n",
    "\n",
    "\n",
    "year = 2023\n",
    "games_this_year = games[games['Year'] == year]\n",
    "droppable_fields = ['YEAR', 'TEAM NO', 'TEAM ID', 'CONF']\n",
    "droppable_fields.append('TEAM')\n",
    "\n",
    "all_game_results = pd.DataFrame()\n",
    "for i, element in enumerate(games_this_year.itertuples()):\n",
    "\n",
    "    if random.choice([True, False]):\n",
    "        this_game = how_teams_shoot[(how_teams_shoot['YEAR'] == year) & (\n",
    "            how_teams_shoot['TEAM'] == element.TeamLeft)].drop(droppable_fields, axis=1).add_suffix(\"_team1\")\n",
    "\n",
    "        other_team = how_teams_shoot[(how_teams_shoot['YEAR'] == year) & (\n",
    "            how_teams_shoot['TEAM'] == element.TeamRight)].drop(droppable_fields, axis=1).add_suffix(\"_team2\")\n",
    "\n",
    "        games_this_year.loc[i, 'TeamLeft'] = 1\n",
    "\n",
    "    else:\n",
    "        this_game = how_teams_shoot[(how_teams_shoot['YEAR'] == year) & (\n",
    "            how_teams_shoot['TEAM'] == element.TeamRight)].drop(droppable_fields, axis=1).add_suffix(\"_team1\")\n",
    "\n",
    "        other_team = how_teams_shoot[(how_teams_shoot['YEAR'] == year) & (\n",
    "            how_teams_shoot['TEAM'] == element.TeamLeft)].drop(droppable_fields, axis=1).add_suffix(\"_team2\")\n",
    "\n",
    "        games_this_year.loc[i, 'TeamLeft'] = 0\n",
    "\n",
    "    this_game['target'] = element.TeamLeft\n",
    "\n",
    "    for col in other_team.columns:\n",
    "        this_game[col] = other_team[col].iloc[0]\n",
    "    all_game_results = pd.concat([all_game_results, this_game])\n",
    "\n",
    "\n",
    "# with pd.option_context('display.max_columns', None):\n",
    "#     display(all_game_results)\n",
    "\n",
    "\n",
    "data = all_game_results.drop('target', axis=1)\n",
    "target = all_game_results['target']\n",
    "\n",
    "X_train, X_test, y_train, y_test = train_test_split(\n",
    "    data, target, test_size=0.2, random_state=42)\n",
    "c45 = DecisionTreeClassifier()\n",
    "c45.fit(X_train, y_train)\n",
    "y_pred = c45.predict(X_test)\n",
    "\n",
    "# evaluate accuracy\n",
    "print(f\"Accuracy: {accuracy_score(y_test, y_pred)}\")\n",
    "\n",
    "# ?\n",
    "# ?\n",
    "# ?\n",
    "\n",
    "foo = {\n",
    "    'Year': [2023],\n",
    "    'TeamLeft': ['Connecticut'],\n",
    "    'TeamRight': ['Southeast Missouri St.'],\n",
    "}\n",
    "\n",
    "bar = pd.DataFrame()\n",
    "for element in pd.DataFrame(foo).itertuples():\n",
    "\n",
    "    this_game = how_teams_shoot[(how_teams_shoot['YEAR'] == year) & (\n",
    "        how_teams_shoot['TEAM'] == element.TeamLeft)].drop(droppable_fields, axis=1).add_suffix(\"_team1\")\n",
    "\n",
    "    other_team = how_teams_shoot[(how_teams_shoot['YEAR'] == year) & (\n",
    "        how_teams_shoot['TEAM'] == element.TeamRight)].drop(droppable_fields, axis=1).add_suffix(\"_team2\")\n",
    "\n",
    "    for col in other_team.columns:\n",
    "        this_game[col] = other_team[col].iloc[0]\n",
    "    bar = pd.concat([bar, this_game])\n",
    "\n",
    "\n",
    "print(f\"test: {c45.predict(bar)}\")"
   ]
  }
 ],
 "metadata": {
  "kernelspec": {
   "display_name": "Python 3",
   "language": "python",
   "name": "python3"
  },
  "language_info": {
   "codemirror_mode": {
    "name": "ipython",
    "version": 3
   },
   "file_extension": ".py",
   "mimetype": "text/x-python",
   "name": "python",
   "nbconvert_exporter": "python",
   "pygments_lexer": "ipython3",
   "version": "3.12.2"
  }
 },
 "nbformat": 4,
 "nbformat_minor": 2
}
